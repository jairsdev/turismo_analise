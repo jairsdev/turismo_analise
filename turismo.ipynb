{
 "cells": [
  {
   "cell_type": "code",
   "execution_count": 55,
   "id": "ac291ac7",
   "metadata": {},
   "outputs": [],
   "source": [
    "import pandas as pd\n",
    "import matplotlib.pyplot as plt\n",
    "from sympy import *\n",
    "import numpy as np"
   ]
  },
  {
   "cell_type": "code",
   "execution_count": 56,
   "id": "a170f62e",
   "metadata": {},
   "outputs": [
    {
     "data": {
      "text/html": [
       "<div>\n",
       "<style scoped>\n",
       "    .dataframe tbody tr th:only-of-type {\n",
       "        vertical-align: middle;\n",
       "    }\n",
       "\n",
       "    .dataframe tbody tr th {\n",
       "        vertical-align: top;\n",
       "    }\n",
       "\n",
       "    .dataframe thead th {\n",
       "        text-align: right;\n",
       "    }\n",
       "</style>\n",
       "<table border=\"1\" class=\"dataframe\">\n",
       "  <thead>\n",
       "    <tr style=\"text-align: right;\">\n",
       "      <th></th>\n",
       "      <th>Continente</th>\n",
       "      <th>cod continente</th>\n",
       "      <th>Pais</th>\n",
       "      <th>cod pais</th>\n",
       "      <th>UF</th>\n",
       "      <th>cod uf</th>\n",
       "      <th>Via</th>\n",
       "      <th>cod via</th>\n",
       "      <th>Ano</th>\n",
       "      <th>Mes</th>\n",
       "      <th>cod mes</th>\n",
       "      <th>Chegadas</th>\n",
       "    </tr>\n",
       "  </thead>\n",
       "  <tbody>\n",
       "    <tr>\n",
       "      <th>0</th>\n",
       "      <td>América do Sul</td>\n",
       "      <td>4</td>\n",
       "      <td>Peru</td>\n",
       "      <td>34</td>\n",
       "      <td>Acre</td>\n",
       "      <td>1</td>\n",
       "      <td>Aéreo</td>\n",
       "      <td>1</td>\n",
       "      <td>2023</td>\n",
       "      <td>Novembro</td>\n",
       "      <td>11</td>\n",
       "      <td>0</td>\n",
       "    </tr>\n",
       "    <tr>\n",
       "      <th>1</th>\n",
       "      <td>América do Sul</td>\n",
       "      <td>4</td>\n",
       "      <td>Peru</td>\n",
       "      <td>34</td>\n",
       "      <td>Acre</td>\n",
       "      <td>1</td>\n",
       "      <td>Aéreo</td>\n",
       "      <td>1</td>\n",
       "      <td>2023</td>\n",
       "      <td>Novembro</td>\n",
       "      <td>11</td>\n",
       "      <td>0</td>\n",
       "    </tr>\n",
       "    <tr>\n",
       "      <th>2</th>\n",
       "      <td>Ásia</td>\n",
       "      <td>5</td>\n",
       "      <td>Outros países</td>\n",
       "      <td>56</td>\n",
       "      <td>Outras Unidades da Federação</td>\n",
       "      <td>99</td>\n",
       "      <td>Aéreo</td>\n",
       "      <td>1</td>\n",
       "      <td>2023</td>\n",
       "      <td>Junho</td>\n",
       "      <td>6</td>\n",
       "      <td>0</td>\n",
       "    </tr>\n",
       "    <tr>\n",
       "      <th>3</th>\n",
       "      <td>Europa</td>\n",
       "      <td>6</td>\n",
       "      <td>Alemanha</td>\n",
       "      <td>57</td>\n",
       "      <td>Outras Unidades da Federação</td>\n",
       "      <td>99</td>\n",
       "      <td>Aéreo</td>\n",
       "      <td>1</td>\n",
       "      <td>2023</td>\n",
       "      <td>Janeiro</td>\n",
       "      <td>1</td>\n",
       "      <td>12</td>\n",
       "    </tr>\n",
       "    <tr>\n",
       "      <th>4</th>\n",
       "      <td>Europa</td>\n",
       "      <td>6</td>\n",
       "      <td>Alemanha</td>\n",
       "      <td>57</td>\n",
       "      <td>Outras Unidades da Federação</td>\n",
       "      <td>99</td>\n",
       "      <td>Aéreo</td>\n",
       "      <td>1</td>\n",
       "      <td>2023</td>\n",
       "      <td>Fevereiro</td>\n",
       "      <td>2</td>\n",
       "      <td>10</td>\n",
       "    </tr>\n",
       "    <tr>\n",
       "      <th>...</th>\n",
       "      <td>...</td>\n",
       "      <td>...</td>\n",
       "      <td>...</td>\n",
       "      <td>...</td>\n",
       "      <td>...</td>\n",
       "      <td>...</td>\n",
       "      <td>...</td>\n",
       "      <td>...</td>\n",
       "      <td>...</td>\n",
       "      <td>...</td>\n",
       "      <td>...</td>\n",
       "      <td>...</td>\n",
       "    </tr>\n",
       "    <tr>\n",
       "      <th>34759</th>\n",
       "      <td>Europa</td>\n",
       "      <td>6</td>\n",
       "      <td>Suécia</td>\n",
       "      <td>85</td>\n",
       "      <td>Santa Catarina</td>\n",
       "      <td>24</td>\n",
       "      <td>Fluvial</td>\n",
       "      <td>4</td>\n",
       "      <td>2023</td>\n",
       "      <td>Dezembro</td>\n",
       "      <td>12</td>\n",
       "      <td>0</td>\n",
       "    </tr>\n",
       "    <tr>\n",
       "      <th>34760</th>\n",
       "      <td>Europa</td>\n",
       "      <td>6</td>\n",
       "      <td>Suíça</td>\n",
       "      <td>86</td>\n",
       "      <td>Santa Catarina</td>\n",
       "      <td>24</td>\n",
       "      <td>Fluvial</td>\n",
       "      <td>4</td>\n",
       "      <td>2023</td>\n",
       "      <td>Dezembro</td>\n",
       "      <td>12</td>\n",
       "      <td>0</td>\n",
       "    </tr>\n",
       "    <tr>\n",
       "      <th>34761</th>\n",
       "      <td>América do Sul</td>\n",
       "      <td>4</td>\n",
       "      <td>Uruguai</td>\n",
       "      <td>36</td>\n",
       "      <td>Santa Catarina</td>\n",
       "      <td>24</td>\n",
       "      <td>Fluvial</td>\n",
       "      <td>4</td>\n",
       "      <td>2023</td>\n",
       "      <td>Marco</td>\n",
       "      <td>3</td>\n",
       "      <td>29</td>\n",
       "    </tr>\n",
       "    <tr>\n",
       "      <th>34762</th>\n",
       "      <td>América do Sul</td>\n",
       "      <td>4</td>\n",
       "      <td>Uruguai</td>\n",
       "      <td>36</td>\n",
       "      <td>Santa Catarina</td>\n",
       "      <td>24</td>\n",
       "      <td>Fluvial</td>\n",
       "      <td>4</td>\n",
       "      <td>2023</td>\n",
       "      <td>Abril</td>\n",
       "      <td>4</td>\n",
       "      <td>0</td>\n",
       "    </tr>\n",
       "    <tr>\n",
       "      <th>34763</th>\n",
       "      <td>América do Sul</td>\n",
       "      <td>4</td>\n",
       "      <td>Venezuela</td>\n",
       "      <td>37</td>\n",
       "      <td>Santa Catarina</td>\n",
       "      <td>24</td>\n",
       "      <td>Fluvial</td>\n",
       "      <td>4</td>\n",
       "      <td>2023</td>\n",
       "      <td>Abril</td>\n",
       "      <td>4</td>\n",
       "      <td>0</td>\n",
       "    </tr>\n",
       "  </tbody>\n",
       "</table>\n",
       "<p>34764 rows × 12 columns</p>\n",
       "</div>"
      ],
      "text/plain": [
       "           Continente  cod continente           Pais  cod pais  \\\n",
       "0      América do Sul               4           Peru        34   \n",
       "1      América do Sul               4           Peru        34   \n",
       "2                Ásia               5  Outros países        56   \n",
       "3              Europa               6       Alemanha        57   \n",
       "4              Europa               6       Alemanha        57   \n",
       "...               ...             ...            ...       ...   \n",
       "34759          Europa               6         Suécia        85   \n",
       "34760          Europa               6          Suíça        86   \n",
       "34761  América do Sul               4        Uruguai        36   \n",
       "34762  América do Sul               4        Uruguai        36   \n",
       "34763  América do Sul               4      Venezuela        37   \n",
       "\n",
       "                                 UF  cod uf      Via  cod via   Ano  \\\n",
       "0                              Acre       1    Aéreo        1  2023   \n",
       "1                              Acre       1    Aéreo        1  2023   \n",
       "2      Outras Unidades da Federação      99    Aéreo        1  2023   \n",
       "3      Outras Unidades da Federação      99    Aéreo        1  2023   \n",
       "4      Outras Unidades da Federação      99    Aéreo        1  2023   \n",
       "...                             ...     ...      ...      ...   ...   \n",
       "34759                Santa Catarina      24  Fluvial        4  2023   \n",
       "34760                Santa Catarina      24  Fluvial        4  2023   \n",
       "34761                Santa Catarina      24  Fluvial        4  2023   \n",
       "34762                Santa Catarina      24  Fluvial        4  2023   \n",
       "34763                Santa Catarina      24  Fluvial        4  2023   \n",
       "\n",
       "             Mes  cod mes  Chegadas  \n",
       "0       Novembro       11         0  \n",
       "1       Novembro       11         0  \n",
       "2          Junho        6         0  \n",
       "3        Janeiro        1        12  \n",
       "4      Fevereiro        2        10  \n",
       "...          ...      ...       ...  \n",
       "34759   Dezembro       12         0  \n",
       "34760   Dezembro       12         0  \n",
       "34761      Marco        3        29  \n",
       "34762      Abril        4         0  \n",
       "34763      Abril        4         0  \n",
       "\n",
       "[34764 rows x 12 columns]"
      ]
     },
     "execution_count": 56,
     "metadata": {},
     "output_type": "execute_result"
    }
   ],
   "source": [
    "df = pd.read_csv(\"chegadas_2023.csv\", encoding=\"ANSI\", delimiter=';')\n",
    "df"
   ]
  },
  {
   "cell_type": "code",
   "execution_count": 57,
   "id": "435b7b63",
   "metadata": {},
   "outputs": [
    {
     "data": {
      "text/html": [
       "<div>\n",
       "<style scoped>\n",
       "    .dataframe tbody tr th:only-of-type {\n",
       "        vertical-align: middle;\n",
       "    }\n",
       "\n",
       "    .dataframe tbody tr th {\n",
       "        vertical-align: top;\n",
       "    }\n",
       "\n",
       "    .dataframe thead th {\n",
       "        text-align: right;\n",
       "    }\n",
       "</style>\n",
       "<table border=\"1\" class=\"dataframe\">\n",
       "  <thead>\n",
       "    <tr style=\"text-align: right;\">\n",
       "      <th></th>\n",
       "      <th>Continente</th>\n",
       "      <th>Pais</th>\n",
       "      <th>Via</th>\n",
       "      <th>Ano</th>\n",
       "      <th>Mes</th>\n",
       "    </tr>\n",
       "  </thead>\n",
       "  <tbody>\n",
       "    <tr>\n",
       "      <th>0</th>\n",
       "      <td>América do Sul</td>\n",
       "      <td>Peru</td>\n",
       "      <td>Aéreo</td>\n",
       "      <td>2023</td>\n",
       "      <td>Novembro</td>\n",
       "    </tr>\n",
       "    <tr>\n",
       "      <th>1</th>\n",
       "      <td>América do Sul</td>\n",
       "      <td>Peru</td>\n",
       "      <td>Aéreo</td>\n",
       "      <td>2023</td>\n",
       "      <td>Novembro</td>\n",
       "    </tr>\n",
       "    <tr>\n",
       "      <th>2</th>\n",
       "      <td>Ásia</td>\n",
       "      <td>Outros países</td>\n",
       "      <td>Aéreo</td>\n",
       "      <td>2023</td>\n",
       "      <td>Junho</td>\n",
       "    </tr>\n",
       "    <tr>\n",
       "      <th>3</th>\n",
       "      <td>Europa</td>\n",
       "      <td>Alemanha</td>\n",
       "      <td>Aéreo</td>\n",
       "      <td>2023</td>\n",
       "      <td>Janeiro</td>\n",
       "    </tr>\n",
       "    <tr>\n",
       "      <th>4</th>\n",
       "      <td>Europa</td>\n",
       "      <td>Alemanha</td>\n",
       "      <td>Aéreo</td>\n",
       "      <td>2023</td>\n",
       "      <td>Fevereiro</td>\n",
       "    </tr>\n",
       "    <tr>\n",
       "      <th>...</th>\n",
       "      <td>...</td>\n",
       "      <td>...</td>\n",
       "      <td>...</td>\n",
       "      <td>...</td>\n",
       "      <td>...</td>\n",
       "    </tr>\n",
       "    <tr>\n",
       "      <th>34759</th>\n",
       "      <td>Europa</td>\n",
       "      <td>Suécia</td>\n",
       "      <td>Fluvial</td>\n",
       "      <td>2023</td>\n",
       "      <td>Dezembro</td>\n",
       "    </tr>\n",
       "    <tr>\n",
       "      <th>34760</th>\n",
       "      <td>Europa</td>\n",
       "      <td>Suíça</td>\n",
       "      <td>Fluvial</td>\n",
       "      <td>2023</td>\n",
       "      <td>Dezembro</td>\n",
       "    </tr>\n",
       "    <tr>\n",
       "      <th>34761</th>\n",
       "      <td>América do Sul</td>\n",
       "      <td>Uruguai</td>\n",
       "      <td>Fluvial</td>\n",
       "      <td>2023</td>\n",
       "      <td>Marco</td>\n",
       "    </tr>\n",
       "    <tr>\n",
       "      <th>34762</th>\n",
       "      <td>América do Sul</td>\n",
       "      <td>Uruguai</td>\n",
       "      <td>Fluvial</td>\n",
       "      <td>2023</td>\n",
       "      <td>Abril</td>\n",
       "    </tr>\n",
       "    <tr>\n",
       "      <th>34763</th>\n",
       "      <td>América do Sul</td>\n",
       "      <td>Venezuela</td>\n",
       "      <td>Fluvial</td>\n",
       "      <td>2023</td>\n",
       "      <td>Abril</td>\n",
       "    </tr>\n",
       "  </tbody>\n",
       "</table>\n",
       "<p>34764 rows × 5 columns</p>\n",
       "</div>"
      ],
      "text/plain": [
       "           Continente           Pais      Via   Ano        Mes\n",
       "0      América do Sul           Peru    Aéreo  2023   Novembro\n",
       "1      América do Sul           Peru    Aéreo  2023   Novembro\n",
       "2                Ásia  Outros países    Aéreo  2023      Junho\n",
       "3              Europa       Alemanha    Aéreo  2023    Janeiro\n",
       "4              Europa       Alemanha    Aéreo  2023  Fevereiro\n",
       "...               ...            ...      ...   ...        ...\n",
       "34759          Europa         Suécia  Fluvial  2023   Dezembro\n",
       "34760          Europa          Suíça  Fluvial  2023   Dezembro\n",
       "34761  América do Sul        Uruguai  Fluvial  2023      Marco\n",
       "34762  América do Sul        Uruguai  Fluvial  2023      Abril\n",
       "34763  América do Sul      Venezuela  Fluvial  2023      Abril\n",
       "\n",
       "[34764 rows x 5 columns]"
      ]
     },
     "execution_count": 57,
     "metadata": {},
     "output_type": "execute_result"
    }
   ],
   "source": [
    "df = df.drop(columns=['UF', 'cod pais', 'cod continente', 'cod uf', 'cod via', 'cod mes', 'Chegadas'])\n",
    "df"
   ]
  },
  {
   "cell_type": "code",
   "execution_count": 58,
   "id": "5e3ca69e",
   "metadata": {
    "scrolled": true
   },
   "outputs": [
    {
     "data": {
      "text/html": [
       "<div>\n",
       "<style scoped>\n",
       "    .dataframe tbody tr th:only-of-type {\n",
       "        vertical-align: middle;\n",
       "    }\n",
       "\n",
       "    .dataframe tbody tr th {\n",
       "        vertical-align: top;\n",
       "    }\n",
       "\n",
       "    .dataframe thead th {\n",
       "        text-align: right;\n",
       "    }\n",
       "</style>\n",
       "<table border=\"1\" class=\"dataframe\">\n",
       "  <thead>\n",
       "    <tr style=\"text-align: right;\">\n",
       "      <th></th>\n",
       "      <th>Continente</th>\n",
       "      <th>Pais</th>\n",
       "      <th>Via</th>\n",
       "      <th>Ano</th>\n",
       "      <th>Mes</th>\n",
       "    </tr>\n",
       "  </thead>\n",
       "  <tbody>\n",
       "    <tr>\n",
       "      <th>0</th>\n",
       "      <td>America do Sul</td>\n",
       "      <td>Peru</td>\n",
       "      <td>Aéreo</td>\n",
       "      <td>2023</td>\n",
       "      <td>Novembro</td>\n",
       "    </tr>\n",
       "    <tr>\n",
       "      <th>1</th>\n",
       "      <td>America do Sul</td>\n",
       "      <td>Peru</td>\n",
       "      <td>Aéreo</td>\n",
       "      <td>2023</td>\n",
       "      <td>Novembro</td>\n",
       "    </tr>\n",
       "    <tr>\n",
       "      <th>2</th>\n",
       "      <td>Asia</td>\n",
       "      <td>Outros países</td>\n",
       "      <td>Aéreo</td>\n",
       "      <td>2023</td>\n",
       "      <td>Junho</td>\n",
       "    </tr>\n",
       "    <tr>\n",
       "      <th>3</th>\n",
       "      <td>Europa</td>\n",
       "      <td>Alemanha</td>\n",
       "      <td>Aéreo</td>\n",
       "      <td>2023</td>\n",
       "      <td>Janeiro</td>\n",
       "    </tr>\n",
       "    <tr>\n",
       "      <th>4</th>\n",
       "      <td>Europa</td>\n",
       "      <td>Alemanha</td>\n",
       "      <td>Aéreo</td>\n",
       "      <td>2023</td>\n",
       "      <td>Fevereiro</td>\n",
       "    </tr>\n",
       "    <tr>\n",
       "      <th>...</th>\n",
       "      <td>...</td>\n",
       "      <td>...</td>\n",
       "      <td>...</td>\n",
       "      <td>...</td>\n",
       "      <td>...</td>\n",
       "    </tr>\n",
       "    <tr>\n",
       "      <th>34759</th>\n",
       "      <td>Europa</td>\n",
       "      <td>Suécia</td>\n",
       "      <td>Fluvial</td>\n",
       "      <td>2023</td>\n",
       "      <td>Dezembro</td>\n",
       "    </tr>\n",
       "    <tr>\n",
       "      <th>34760</th>\n",
       "      <td>Europa</td>\n",
       "      <td>Suíça</td>\n",
       "      <td>Fluvial</td>\n",
       "      <td>2023</td>\n",
       "      <td>Dezembro</td>\n",
       "    </tr>\n",
       "    <tr>\n",
       "      <th>34761</th>\n",
       "      <td>America do Sul</td>\n",
       "      <td>Uruguai</td>\n",
       "      <td>Fluvial</td>\n",
       "      <td>2023</td>\n",
       "      <td>Marco</td>\n",
       "    </tr>\n",
       "    <tr>\n",
       "      <th>34762</th>\n",
       "      <td>America do Sul</td>\n",
       "      <td>Uruguai</td>\n",
       "      <td>Fluvial</td>\n",
       "      <td>2023</td>\n",
       "      <td>Abril</td>\n",
       "    </tr>\n",
       "    <tr>\n",
       "      <th>34763</th>\n",
       "      <td>America do Sul</td>\n",
       "      <td>Venezuela</td>\n",
       "      <td>Fluvial</td>\n",
       "      <td>2023</td>\n",
       "      <td>Abril</td>\n",
       "    </tr>\n",
       "  </tbody>\n",
       "</table>\n",
       "<p>34764 rows × 5 columns</p>\n",
       "</div>"
      ],
      "text/plain": [
       "           Continente           Pais      Via   Ano        Mes\n",
       "0      America do Sul           Peru    Aéreo  2023   Novembro\n",
       "1      America do Sul           Peru    Aéreo  2023   Novembro\n",
       "2                Asia  Outros países    Aéreo  2023      Junho\n",
       "3              Europa       Alemanha    Aéreo  2023    Janeiro\n",
       "4              Europa       Alemanha    Aéreo  2023  Fevereiro\n",
       "...               ...            ...      ...   ...        ...\n",
       "34759          Europa         Suécia  Fluvial  2023   Dezembro\n",
       "34760          Europa          Suíça  Fluvial  2023   Dezembro\n",
       "34761  America do Sul        Uruguai  Fluvial  2023      Marco\n",
       "34762  America do Sul        Uruguai  Fluvial  2023      Abril\n",
       "34763  America do Sul      Venezuela  Fluvial  2023      Abril\n",
       "\n",
       "[34764 rows x 5 columns]"
      ]
     },
     "execution_count": 58,
     "metadata": {},
     "output_type": "execute_result"
    }
   ],
   "source": [
    "df['Continente'] = df['Continente'].str.replace('é', 'e')\n",
    "df['Continente'] = df['Continente'].str.replace('Á', 'A')\n",
    "df"
   ]
  },
  {
   "cell_type": "code",
   "execution_count": 59,
   "id": "24bf8c5b",
   "metadata": {},
   "outputs": [
    {
     "data": {
      "text/plain": [
       "array(['Aéreo', 'Terrestre', 'Marítimo', 'Fluvial'], dtype=object)"
      ]
     },
     "execution_count": 59,
     "metadata": {},
     "output_type": "execute_result"
    }
   ],
   "source": [
    "df['Via'].unique()"
   ]
  },
  {
   "cell_type": "code",
   "execution_count": 60,
   "id": "131dd624",
   "metadata": {},
   "outputs": [
    {
     "data": {
      "text/plain": [
       "array(['Aereo', 'Terrestre', 'Maritimo', 'Fluvial'], dtype=object)"
      ]
     },
     "execution_count": 60,
     "metadata": {},
     "output_type": "execute_result"
    }
   ],
   "source": [
    "df['Via'] = df['Via'].str.replace('é', 'e')\n",
    "df['Via'] = df['Via'].str.replace('í', 'i')\n",
    "df['Via'].unique()"
   ]
  },
  {
   "cell_type": "code",
   "execution_count": 61,
   "id": "c285d3d9",
   "metadata": {},
   "outputs": [
    {
     "data": {
      "text/plain": [
       "array(['Novembro', 'Junho', 'Janeiro', 'Fevereiro', 'Marco', 'Abril',\n",
       "       'Maio', 'Julho', 'Agosto', 'Setembro', 'Outubro', 'Dezembro'],\n",
       "      dtype=object)"
      ]
     },
     "execution_count": 61,
     "metadata": {},
     "output_type": "execute_result"
    }
   ],
   "source": [
    "df['Mes'].unique()"
   ]
  },
  {
   "cell_type": "code",
   "execution_count": 62,
   "id": "2263cdbf",
   "metadata": {},
   "outputs": [],
   "source": [
    "df['Continente'] = df['Continente'].astype('category')\n",
    "df['Pais'] = df['Pais'].astype('category')\n",
    "df['Via'] = df['Via'].astype('category')\n",
    "df['Ano'] = df['Ano'].astype('category')\n",
    "df['Mes'] = df['Mes'].astype('category')"
   ]
  },
  {
   "cell_type": "code",
   "execution_count": 63,
   "id": "def51db2",
   "metadata": {},
   "outputs": [
    {
     "data": {
      "text/html": [
       "<div>\n",
       "<style scoped>\n",
       "    .dataframe tbody tr th:only-of-type {\n",
       "        vertical-align: middle;\n",
       "    }\n",
       "\n",
       "    .dataframe tbody tr th {\n",
       "        vertical-align: top;\n",
       "    }\n",
       "\n",
       "    .dataframe thead th {\n",
       "        text-align: right;\n",
       "    }\n",
       "</style>\n",
       "<table border=\"1\" class=\"dataframe\">\n",
       "  <thead>\n",
       "    <tr style=\"text-align: right;\">\n",
       "      <th></th>\n",
       "      <th>Continente</th>\n",
       "      <th>Pais</th>\n",
       "      <th>Via</th>\n",
       "      <th>Ano</th>\n",
       "      <th>Mes</th>\n",
       "    </tr>\n",
       "  </thead>\n",
       "  <tbody>\n",
       "    <tr>\n",
       "      <th>0</th>\n",
       "      <td>America do Sul</td>\n",
       "      <td>Peru</td>\n",
       "      <td>Aereo</td>\n",
       "      <td>2023</td>\n",
       "      <td>Novembro</td>\n",
       "    </tr>\n",
       "    <tr>\n",
       "      <th>1</th>\n",
       "      <td>America do Sul</td>\n",
       "      <td>Peru</td>\n",
       "      <td>Aereo</td>\n",
       "      <td>2023</td>\n",
       "      <td>Novembro</td>\n",
       "    </tr>\n",
       "    <tr>\n",
       "      <th>15</th>\n",
       "      <td>America do Sul</td>\n",
       "      <td>Argentina</td>\n",
       "      <td>Aereo</td>\n",
       "      <td>2023</td>\n",
       "      <td>Janeiro</td>\n",
       "    </tr>\n",
       "    <tr>\n",
       "      <th>16</th>\n",
       "      <td>America do Sul</td>\n",
       "      <td>Argentina</td>\n",
       "      <td>Aereo</td>\n",
       "      <td>2023</td>\n",
       "      <td>Fevereiro</td>\n",
       "    </tr>\n",
       "    <tr>\n",
       "      <th>17</th>\n",
       "      <td>America do Sul</td>\n",
       "      <td>Argentina</td>\n",
       "      <td>Aereo</td>\n",
       "      <td>2023</td>\n",
       "      <td>Marco</td>\n",
       "    </tr>\n",
       "    <tr>\n",
       "      <th>...</th>\n",
       "      <td>...</td>\n",
       "      <td>...</td>\n",
       "      <td>...</td>\n",
       "      <td>...</td>\n",
       "      <td>...</td>\n",
       "    </tr>\n",
       "    <tr>\n",
       "      <th>34757</th>\n",
       "      <td>America do Sul</td>\n",
       "      <td>Paraguai</td>\n",
       "      <td>Fluvial</td>\n",
       "      <td>2023</td>\n",
       "      <td>Junho</td>\n",
       "    </tr>\n",
       "    <tr>\n",
       "      <th>34758</th>\n",
       "      <td>America do Sul</td>\n",
       "      <td>Paraguai</td>\n",
       "      <td>Fluvial</td>\n",
       "      <td>2023</td>\n",
       "      <td>Dezembro</td>\n",
       "    </tr>\n",
       "    <tr>\n",
       "      <th>34761</th>\n",
       "      <td>America do Sul</td>\n",
       "      <td>Uruguai</td>\n",
       "      <td>Fluvial</td>\n",
       "      <td>2023</td>\n",
       "      <td>Marco</td>\n",
       "    </tr>\n",
       "    <tr>\n",
       "      <th>34762</th>\n",
       "      <td>America do Sul</td>\n",
       "      <td>Uruguai</td>\n",
       "      <td>Fluvial</td>\n",
       "      <td>2023</td>\n",
       "      <td>Abril</td>\n",
       "    </tr>\n",
       "    <tr>\n",
       "      <th>34763</th>\n",
       "      <td>America do Sul</td>\n",
       "      <td>Venezuela</td>\n",
       "      <td>Fluvial</td>\n",
       "      <td>2023</td>\n",
       "      <td>Abril</td>\n",
       "    </tr>\n",
       "  </tbody>\n",
       "</table>\n",
       "<p>6123 rows × 5 columns</p>\n",
       "</div>"
      ],
      "text/plain": [
       "           Continente       Pais      Via   Ano        Mes\n",
       "0      America do Sul       Peru    Aereo  2023   Novembro\n",
       "1      America do Sul       Peru    Aereo  2023   Novembro\n",
       "15     America do Sul  Argentina    Aereo  2023    Janeiro\n",
       "16     America do Sul  Argentina    Aereo  2023  Fevereiro\n",
       "17     America do Sul  Argentina    Aereo  2023      Marco\n",
       "...               ...        ...      ...   ...        ...\n",
       "34757  America do Sul   Paraguai  Fluvial  2023      Junho\n",
       "34758  America do Sul   Paraguai  Fluvial  2023   Dezembro\n",
       "34761  America do Sul    Uruguai  Fluvial  2023      Marco\n",
       "34762  America do Sul    Uruguai  Fluvial  2023      Abril\n",
       "34763  America do Sul  Venezuela  Fluvial  2023      Abril\n",
       "\n",
       "[6123 rows x 5 columns]"
      ]
     },
     "execution_count": 63,
     "metadata": {},
     "output_type": "execute_result"
    }
   ],
   "source": [
    "df_america_sul = df[df['Continente'] == 'America do Sul']\n",
    "df_america_sul"
   ]
  },
  {
   "cell_type": "code",
   "execution_count": 64,
   "id": "19d3bce2",
   "metadata": {},
   "outputs": [
    {
     "data": {
      "text/html": [
       "<div>\n",
       "<style scoped>\n",
       "    .dataframe tbody tr th:only-of-type {\n",
       "        vertical-align: middle;\n",
       "    }\n",
       "\n",
       "    .dataframe tbody tr th {\n",
       "        vertical-align: top;\n",
       "    }\n",
       "\n",
       "    .dataframe thead th {\n",
       "        text-align: right;\n",
       "    }\n",
       "</style>\n",
       "<table border=\"1\" class=\"dataframe\">\n",
       "  <thead>\n",
       "    <tr style=\"text-align: right;\">\n",
       "      <th></th>\n",
       "      <th>Continente</th>\n",
       "      <th>Pais</th>\n",
       "      <th>Via</th>\n",
       "      <th>Ano</th>\n",
       "      <th>Mes</th>\n",
       "    </tr>\n",
       "  </thead>\n",
       "  <tbody>\n",
       "    <tr>\n",
       "      <th>0</th>\n",
       "      <td>America do Sul</td>\n",
       "      <td>Peru</td>\n",
       "      <td>Aereo</td>\n",
       "      <td>2023</td>\n",
       "      <td>Novembro</td>\n",
       "    </tr>\n",
       "    <tr>\n",
       "      <th>1</th>\n",
       "      <td>America do Sul</td>\n",
       "      <td>Peru</td>\n",
       "      <td>Aereo</td>\n",
       "      <td>2023</td>\n",
       "      <td>Novembro</td>\n",
       "    </tr>\n",
       "    <tr>\n",
       "      <th>2</th>\n",
       "      <td>America do Sul</td>\n",
       "      <td>Argentina</td>\n",
       "      <td>Aereo</td>\n",
       "      <td>2023</td>\n",
       "      <td>Janeiro</td>\n",
       "    </tr>\n",
       "    <tr>\n",
       "      <th>3</th>\n",
       "      <td>America do Sul</td>\n",
       "      <td>Argentina</td>\n",
       "      <td>Aereo</td>\n",
       "      <td>2023</td>\n",
       "      <td>Fevereiro</td>\n",
       "    </tr>\n",
       "    <tr>\n",
       "      <th>4</th>\n",
       "      <td>America do Sul</td>\n",
       "      <td>Argentina</td>\n",
       "      <td>Aereo</td>\n",
       "      <td>2023</td>\n",
       "      <td>Marco</td>\n",
       "    </tr>\n",
       "    <tr>\n",
       "      <th>...</th>\n",
       "      <td>...</td>\n",
       "      <td>...</td>\n",
       "      <td>...</td>\n",
       "      <td>...</td>\n",
       "      <td>...</td>\n",
       "    </tr>\n",
       "    <tr>\n",
       "      <th>6118</th>\n",
       "      <td>America do Sul</td>\n",
       "      <td>Paraguai</td>\n",
       "      <td>Fluvial</td>\n",
       "      <td>2023</td>\n",
       "      <td>Junho</td>\n",
       "    </tr>\n",
       "    <tr>\n",
       "      <th>6119</th>\n",
       "      <td>America do Sul</td>\n",
       "      <td>Paraguai</td>\n",
       "      <td>Fluvial</td>\n",
       "      <td>2023</td>\n",
       "      <td>Dezembro</td>\n",
       "    </tr>\n",
       "    <tr>\n",
       "      <th>6120</th>\n",
       "      <td>America do Sul</td>\n",
       "      <td>Uruguai</td>\n",
       "      <td>Fluvial</td>\n",
       "      <td>2023</td>\n",
       "      <td>Marco</td>\n",
       "    </tr>\n",
       "    <tr>\n",
       "      <th>6121</th>\n",
       "      <td>America do Sul</td>\n",
       "      <td>Uruguai</td>\n",
       "      <td>Fluvial</td>\n",
       "      <td>2023</td>\n",
       "      <td>Abril</td>\n",
       "    </tr>\n",
       "    <tr>\n",
       "      <th>6122</th>\n",
       "      <td>America do Sul</td>\n",
       "      <td>Venezuela</td>\n",
       "      <td>Fluvial</td>\n",
       "      <td>2023</td>\n",
       "      <td>Abril</td>\n",
       "    </tr>\n",
       "  </tbody>\n",
       "</table>\n",
       "<p>6123 rows × 5 columns</p>\n",
       "</div>"
      ],
      "text/plain": [
       "          Continente       Pais      Via   Ano        Mes\n",
       "0     America do Sul       Peru    Aereo  2023   Novembro\n",
       "1     America do Sul       Peru    Aereo  2023   Novembro\n",
       "2     America do Sul  Argentina    Aereo  2023    Janeiro\n",
       "3     America do Sul  Argentina    Aereo  2023  Fevereiro\n",
       "4     America do Sul  Argentina    Aereo  2023      Marco\n",
       "...              ...        ...      ...   ...        ...\n",
       "6118  America do Sul   Paraguai  Fluvial  2023      Junho\n",
       "6119  America do Sul   Paraguai  Fluvial  2023   Dezembro\n",
       "6120  America do Sul    Uruguai  Fluvial  2023      Marco\n",
       "6121  America do Sul    Uruguai  Fluvial  2023      Abril\n",
       "6122  America do Sul  Venezuela  Fluvial  2023      Abril\n",
       "\n",
       "[6123 rows x 5 columns]"
      ]
     },
     "execution_count": 64,
     "metadata": {},
     "output_type": "execute_result"
    }
   ],
   "source": [
    "df_america_sul = df_america_sul.reset_index(drop=True)\n",
    "df_america_sul"
   ]
  },
  {
   "cell_type": "code",
   "execution_count": 65,
   "id": "13e6a096",
   "metadata": {},
   "outputs": [
    {
     "data": {
      "text/plain": [
       "['Peru', 'Argentina', 'Bolívia', 'Chile', 'Colômbia', ..., 'Uruguai', 'Venezuela', 'Guiana', 'Suriname', 'Guiana Francesa']\n",
       "Length: 12\n",
       "Categories (89, object): ['Alemanha', 'Angola', 'Argentina', 'Arábia Saudita', ..., 'Venezuela', 'África do Sul', 'Áustria', 'Índia']"
      ]
     },
     "execution_count": 65,
     "metadata": {},
     "output_type": "execute_result"
    }
   ],
   "source": [
    "df_america_sul['Pais'].unique()"
   ]
  },
  {
   "cell_type": "code",
   "execution_count": 66,
   "id": "7007ada1",
   "metadata": {},
   "outputs": [
    {
     "data": {
      "text/plain": [
       "array(['Peru', 'Argentina', 'Bolivia', 'Chile', 'Colombia', 'Equador',\n",
       "       'Paraguai', 'Uruguai', 'Venezuela', 'Guiana', 'Suriname',\n",
       "       'Guiana Francesa'], dtype=object)"
      ]
     },
     "execution_count": 66,
     "metadata": {},
     "output_type": "execute_result"
    }
   ],
   "source": [
    "df_america_sul['Pais'] = df_america_sul['Pais'].str.replace('í', 'i')\n",
    "df_america_sul['Pais'] = df_america_sul['Pais'].str.replace('ô', 'o')\n",
    "df_america_sul['Pais'].unique()"
   ]
  },
  {
   "cell_type": "code",
   "execution_count": 67,
   "id": "01279fce",
   "metadata": {},
   "outputs": [
    {
     "data": {
      "text/plain": [
       "Mes\n",
       "Abril         67\n",
       "Agosto        66\n",
       "Dezembro     120\n",
       "Fevereiro     60\n",
       "Janeiro       61\n",
       "Julho         56\n",
       "Junho         58\n",
       "Maio          61\n",
       "Marco         58\n",
       "Novembro     112\n",
       "Outubro      109\n",
       "Setembro      56\n",
       "Name: count, dtype: int64"
      ]
     },
     "execution_count": 67,
     "metadata": {},
     "output_type": "execute_result"
    }
   ],
   "source": [
    "paises_contagem_mensal = df_america_sul[['Pais', 'Mes']].value_counts().sort_index()\n",
    "paises_contagem_mensal['Argentina']"
   ]
  },
  {
   "cell_type": "code",
   "execution_count": 68,
   "id": "6ef141c2",
   "metadata": {},
   "outputs": [
    {
     "data": {
      "text/plain": [
       "count     12.000000\n",
       "mean      73.666667\n",
       "std       24.477572\n",
       "min       56.000000\n",
       "25%       58.000000\n",
       "50%       61.000000\n",
       "75%       77.500000\n",
       "max      120.000000\n",
       "Name: count, dtype: float64"
      ]
     },
     "execution_count": 68,
     "metadata": {},
     "output_type": "execute_result"
    }
   ],
   "source": [
    "paises_contagem_mensal['Argentina'].describe()"
   ]
  },
  {
   "cell_type": "code",
   "execution_count": 78,
   "id": "47f50039",
   "metadata": {},
   "outputs": [
    {
     "data": {
      "text/plain": [
       "[33.23,\n",
       " 32.36,\n",
       " 32.38,\n",
       " 37.4,\n",
       " 37.31,\n",
       " 25.95,\n",
       " 44.1,\n",
       " 34.1,\n",
       " 37.96,\n",
       " 28.22,\n",
       " 33.34,\n",
       " 33.11]"
      ]
     },
     "execution_count": 78,
     "metadata": {},
     "output_type": "execute_result"
    }
   ],
   "source": [
    "cvs = []\n",
    "for pais in np.sort(df_america_sul['Pais'].unique()):\n",
    "    cv = round((paises_contagem_mensal[pais].describe()['std'] / paises_contagem_mensal[pais].describe()['mean']) * 100, 2)\n",
    "    cvs.append(cv)\n",
    "cvs"
   ]
  },
  {
   "cell_type": "code",
   "execution_count": 70,
   "id": "4f555882",
   "metadata": {},
   "outputs": [
    {
     "data": {
      "text/plain": [
       "Pais\n",
       "Argentina          884\n",
       "Bolivia            568\n",
       "Chile              654\n",
       "Colombia           657\n",
       "Equador            451\n",
       "Guiana             190\n",
       "Guiana Francesa     12\n",
       "Paraguai           648\n",
       "Peru               626\n",
       "Suriname           156\n",
       "Uruguai            652\n",
       "Venezuela          625\n",
       "Name: count, dtype: int64"
      ]
     },
     "execution_count": 70,
     "metadata": {},
     "output_type": "execute_result"
    }
   ],
   "source": [
    "paises_contagem = df_america_sul['Pais'].value_counts().sort_index()\n",
    "paises_contagem"
   ]
  },
  {
   "cell_type": "code",
   "execution_count": 71,
   "id": "236b6a6d",
   "metadata": {},
   "outputs": [
    {
     "data": {
      "image/png": "[encoded data removed]",
      "text/plain": [
       "<Figure size 2200x1000 with 1 Axes>"
      ]
     },
     "metadata": {},
     "output_type": "display_data"
    }
   ],
   "source": [
    "paises = paises_contagem.index\n",
    "quantidade = paises_contagem.values\n",
    "fig, ax = plt.subplots(figsize=(22, 10))\n",
    "plt.rcParams.update({'font.size': 14})\n",
    "ax.bar(paises, quantidade)\n",
    "ax.set_xlabel('Países') \n",
    "ax.set_ylabel('Quantidade de turistas')\n",
    "ax.set_title('Gráfico em barra da quantidade de turistas por país da America do Sul no Brasil')\n",
    "plt.show()"
   ]
  },
  {
   "cell_type": "code",
   "execution_count": 72,
   "id": "87c9f56a",
   "metadata": {},
   "outputs": [
    {
     "data": {
      "text/latex": [
       "$\\displaystyle P(A|B) = \\frac{P(A∩B)}{P(B)}$"
      ],
      "text/plain": [
       "Eq(P(A|B), P(A∩B)/P(B))"
      ]
     },
     "execution_count": 72,
     "metadata": {},
     "output_type": "execute_result"
    }
   ],
   "source": [
    "PA_e_PB, PA, PB, PA_dado_PB = symbols('P(A∩B) P(A) P(B) P(A|B)')\n",
    "probabilidade_cond = Eq(PA_dado_PB, PA_e_PB / PB)\n",
    "probabilidade_cond"
   ]
  },
  {
   "cell_type": "code",
   "execution_count": 73,
   "id": "3a2f6ccb",
   "metadata": {},
   "outputs": [
    {
     "data": {
      "text/plain": [
       "0.0254"
      ]
     },
     "execution_count": 73,
     "metadata": {},
     "output_type": "execute_result"
    }
   ],
   "source": [
    "quant_total = df.count()['Pais']\n",
    "prob_argentina = round(paises_contagem['Argentina'] / quant_total, 4)\n",
    "prob_argentina"
   ]
  },
  {
   "cell_type": "code",
   "execution_count": 74,
   "id": "08ed3f09",
   "metadata": {},
   "outputs": [
    {
     "data": {
      "text/plain": [
       "0.5431"
      ]
     },
     "execution_count": 74,
     "metadata": {},
     "output_type": "execute_result"
    }
   ],
   "source": [
    "via_contagem = df['Via'].value_counts()\n",
    "prob_aereo = round(via_contagem['Aereo'] / quant_total, 4)\n",
    "prob_aereo"
   ]
  },
  {
   "cell_type": "code",
   "execution_count": 75,
   "id": "c7c0cc69",
   "metadata": {},
   "outputs": [
    {
     "data": {
      "text/plain": [
       "0.0099"
      ]
     },
     "execution_count": 75,
     "metadata": {},
     "output_type": "execute_result"
    }
   ],
   "source": [
    "pais_via_contagem = df[['Pais', 'Via']].value_counts()\n",
    "prob_arg_aereo = round(pais_via_contagem['Argentina']['Aereo'] / quant_total, 4)\n",
    "prob_arg_aereo"
   ]
  },
  {
   "cell_type": "code",
   "execution_count": 76,
   "id": "9dbb8f54",
   "metadata": {},
   "outputs": [
    {
     "name": "stdout",
     "output_type": "stream",
     "text": [
      "Considerando que a probabilidade de um turista ser argentino e usar a via área é de 0.99% e a probabilidade de um turista usar a via área é de 54.31%, então a probabilidade de um turista usar a via área dado que ele é argentino é de 1.823%\n"
     ]
    }
   ],
   "source": [
    "prob_resultado = solve(probabilidade_cond.subs({PA_e_PB: prob_arg_aereo, PB: prob_aereo}), PA_dado_PB)\n",
    "print(f\"Considerando que a probabilidade de um turista ser argentino e usar a via área é de {round(prob_arg_aereo * 100, 2)}% e a probabilidade de um turista usar a via área é de {prob_aereo * 100}%, então a probabilidade de um turista usar a via área dado que ele é argentino é de {round(prob_resultado[0] * 100, 3)}%\")"
   ]
  },
  {
   "cell_type": "code",
   "execution_count": 79,
   "id": "ed567c53",
   "metadata": {},
   "outputs": [
    {
     "data": {
      "image/png": "[encoded data removed]",
      "text/plain": [
       "<Figure size 640x480 with 1 Axes>"
      ]
     },
     "metadata": {},
     "output_type": "display_data"
    }
   ],
   "source": [
    "fig, ax = plt.subplots()\n",
    "ax.scatter(quantidade, cvs)\n",
    "ax.set_xlabel(\"Quantidade\")\n",
    "ax.set_ylabel(\"Coeficiente de variação\")\n",
    "ax.set_title(\"Quantidade de turistas por país da America do Sul no Brasil vs coeficiente de variação dos turistas desses países durante o ano\")\n",
    "plt.show()"
   ]
  },
  {
   "cell_type": "code",
   "execution_count": 102,
   "id": "c46c3d66",
   "metadata": {},
   "outputs": [],
   "source": [
    "coef_1 = np.polyfit(quantidade, cvs, 1)\n",
    "coef_2 = np.polyfit(quantidade, cvs, 2)\n",
    "coef_3 = np.polyfit(quantidade, cvs, 3)\n",
    "coef_4 = np.polyfit(quantidade, cvs, 4) \n",
    "funcao_1 = np.poly1d(coef_1)\n",
    "funcao_2 = np.poly1d(coef_2)\n",
    "funcao_3 = np.poly1d(coef_3)\n",
    "funcao_4 = np.poly1d(coef_4)"
   ]
  },
  {
   "cell_type": "code",
   "execution_count": 104,
   "id": "c7c1371c",
   "metadata": {},
   "outputs": [
    {
     "data": {
      "image/png": "[encoded data removed]",
      "text/plain": [
       "<Figure size 1000x1000 with 4 Axes>"
      ]
     },
     "metadata": {},
     "output_type": "display_data"
    }
   ],
   "source": [
    "#vai suavizar o grafico, pois vai considerar o intervalo entre o valor minimo e maximo de 50 em 50\n",
    "x_vals = np.linspace(min(quantidade), max(quantidade), 50)\n",
    "fig = plt.figure(figsize=(10, 10))\n",
    "plt1 = plt.subplot(2, 2, 1)\n",
    "plt1.set_title(\"Função linear de primeiro grau\")\n",
    "plt2 = plt.subplot(2, 2, 2)\n",
    "plt2.set_title(\"Função não linear de segundo grau\")\n",
    "plt3 = plt.subplot(2, 2, 3)\n",
    "plt3.set_title(\"Função não linear de tercerio grau\")\n",
    "plt4 = plt.subplot(2, 2, 4)\n",
    "plt4.set_title(\"Função não linear de quarto grau\")\n",
    "plt1.plot(x_vals, funcao_1(x_vals), color='blue')\n",
    "plt2.plot(x_vals, funcao_2(x_vals), color='red')\n",
    "plt3.plot(x_vals, funcao_3(x_vals), color='purple')\n",
    "plt4.plot(x_vals, funcao_4(x_vals), color='yellow')\n",
    "plt.draw()"
   ]
  },
  {
   "cell_type": "code",
   "execution_count": null,
   "id": "bd8a474b",
   "metadata": {},
   "outputs": [],
   "source": [
    "print(\"A função do quarto aparenta ser a que melhor modela as 2 variáveis de acordo com os 4 gráficos analisados.\")"
   ]
  },
  {
   "cell_type": "code",
   "execution_count": 105,
   "id": "2ddfc7b5",
   "metadata": {},
   "outputs": [
    {
     "data": {
      "text/plain": [
       "array([ 8.06227946e-10, -1.63093927e-06,  1.08596968e-03, -2.57916873e-01,\n",
       "        4.70140773e+01])"
      ]
     },
     "execution_count": 105,
     "metadata": {},
     "output_type": "execute_result"
    }
   ],
   "source": [
    "coef_4"
   ]
  },
  {
   "cell_type": "code",
   "execution_count": 115,
   "id": "21639de2",
   "metadata": {},
   "outputs": [
    {
     "data": {
      "text/latex": [
       "$\\displaystyle - 0.257916873486293 x + 0.00108596968162686 x^{2} - 1.63093926611277 \\cdot 10^{-6} x^{3} + 8.06227946482863 \\cdot 10^{-10} x^{4} + 47.014077298856$"
      ],
      "text/plain": [
       "-0.257916873486293*x + 0.00108596968162686*x^2 - 1.63093926611277e-6*x^3 + 8.06227946482863e-10*x^4 + 47.014077298856"
      ]
     },
     "execution_count": 115,
     "metadata": {},
     "output_type": "execute_result"
    }
   ],
   "source": [
    "x4, x3, x2, x = symbols(\"x^4 x^3 x^2 x\")\n",
    "y = coef_4[0] * x4 + coef_4[1]*x3 + coef_4[2]*x2 + coef_4[3]*x + coef_4[4]\n",
    "y"
   ]
  }
 ],
 "metadata": {
  "kernelspec": {
   "display_name": "Python 3 (ipykernel)",
   "language": "python",
   "name": "python3"
  },
  "language_info": {
   "codemirror_mode": {
    "name": "ipython",
    "version": 3
   },
   "file_extension": ".py",
   "mimetype": "text/x-python",
   "name": "python",
   "nbconvert_exporter": "python",
   "pygments_lexer": "ipython3",
   "version": "3.11.7"
  }
 },
 "nbformat": 4,
 "nbformat_minor": 5
}
